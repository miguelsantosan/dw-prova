{
 "cells": [
  {
   "cell_type": "markdown",
   "metadata": {},
   "source": [
    "Instalação das bibliotecas usadas"
   ]
  },
  {
   "cell_type": "code",
   "execution_count": null,
   "metadata": {},
   "outputs": [],
   "source": [
    "!pip install pandas\n",
    "!pip install requests\n",
    "!pip install pyperclip"
   ]
  },
  {
   "cell_type": "markdown",
   "metadata": {},
   "source": [
    "## Baixa microdados do ENADE da web"
   ]
  },
  {
   "cell_type": "markdown",
   "metadata": {},
   "source": [
    "O código utiliza a biblioteca ```requests```, mas a primeira célula já executa o comando ```!pip install requests```."
   ]
  },
  {
   "cell_type": "code",
   "execution_count": 1,
   "metadata": {},
   "outputs": [],
   "source": [
    "# Script para download de arquivos do Google Drive encontrado no Stack Overflow\n",
    "# https://stackoverflow.com/questions/38511444/python-download-files-from-google-drive-using-url\n",
    "\n",
    "import requests\n",
    "import os\n",
    "\n",
    "def download_file(id, destination):\n",
    "    URL = \"https://drive.google.com/u/0/uc?id=15TygyU78fPtyMDwnwGTQGNdpXtvCZ6RQ&export=download\"\n",
    "\n",
    "    session = requests.Session()\n",
    "    response = session.get(URL, params={'id': id})\n",
    "    token = get_confirm_token(response)\n",
    "    if(token):\n",
    "        params = {'id': id, 'confirm': token}\n",
    "        response = session.get(URL, params=params)\n",
    "    save_response_content(response, destination)\n",
    "\n",
    "\n",
    "def get_confirm_token(response):\n",
    "    for key, value in response.cookies.items():\n",
    "        if key.startswith('download_warning'):\n",
    "            return value\n",
    "    return None\n",
    "\n",
    "# https://stackoverflow.com/questions/30582162/creating-a-missing-directory-file-structure-python\n",
    "def createAndOpen(filename, mode):\n",
    "    os.makedirs(os.path.dirname(filename), exist_ok=True)\n",
    "    return open(filename, mode)\n",
    "\n",
    "def save_response_content(response, destination):\n",
    "    CHUNK_SIZE = 32768\n",
    "\n",
    "    with createAndOpen(destination, \"wb\") as f:\n",
    "        for chunk in response.iter_content(CHUNK_SIZE):\n",
    "            if chunk:  # filter out keep-alive new chunks\n",
    "                f.write(chunk)\n",
    "\n",
    "# Endereço do arquivo CSV\n",
    "endereco_arquivo_dados = os.path.join(os.getcwd(), 'microdados_ENADE.zip')\n",
    "\n",
    "if __name__ == \"__main__\":\n",
    "    file_id = '15TygyU78fPtyMDwnwGTQGNdpXtvCZ6RQ'\n",
    "    destination = endereco_arquivo_dados\n",
    "    download_file(file_id, destination)"
   ]
  },
  {
   "cell_type": "markdown",
   "metadata": {},
   "source": [
    "Agora irei extrair o arquivo .zip que foram baixados"
   ]
  },
  {
   "cell_type": "code",
   "execution_count": 2,
   "metadata": {},
   "outputs": [],
   "source": [
    "import zipfile\n",
    "\n",
    "if __name__ == '__main__':\n",
    "    with zipfile.ZipFile(endereco_arquivo_dados, 'r') as zip_ref:\n",
    "        zip_ref.extractall() # Como não forneci nenhum endereço, vai extrair na pasta atual"
   ]
  }
 ],
 "metadata": {
  "interpreter": {
   "hash": "a343bea681f747650dfb8943b10a4128e801da192d498cc8da39074ad26c5da2"
  },
  "kernelspec": {
   "display_name": "Python 3.9.9 64-bit (windows store)",
   "language": "python",
   "name": "python3"
  },
  "language_info": {
   "codemirror_mode": {
    "name": "ipython",
    "version": 3
   },
   "file_extension": ".py",
   "mimetype": "text/x-python",
   "name": "python",
   "nbconvert_exporter": "python",
   "pygments_lexer": "ipython3",
   "version": "3.9.9"
  },
  "orig_nbformat": 4
 },
 "nbformat": 4,
 "nbformat_minor": 2
}
