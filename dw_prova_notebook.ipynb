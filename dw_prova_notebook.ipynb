{
  "cells": [
    {
      "cell_type": "markdown",
      "metadata": {
        "id": "z9BMPai_bVKO"
      },
      "source": [
        "# Instalando as bibliotecas usadas"
      ]
    },
    {
      "cell_type": "markdown",
      "metadata": {
        "id": "xmlBcx8KbVKP"
      },
      "source": [
        "Algumas das bibliotecas usadas não fazem parte da distribuição padrão do Python.\n",
        "\n",
        "A célula abaixo realiza a instalação delas para garantir o funcionamento do código."
      ]
    },
    {
      "cell_type": "code",
      "execution_count": null,
      "metadata": {
        "id": "CqnbWoEjbVKP"
      },
      "outputs": [],
      "source": [
        "!pip install pandas\n",
        "!pip install requests"
      ]
    },
    {
      "cell_type": "markdown",
      "metadata": {
        "id": "dXkIr6tZbVKQ"
      },
      "source": [
        "# Questão 1) Coleta de dados"
      ]
    },
    {
      "cell_type": "markdown",
      "metadata": {
        "id": "shRRlyxxbVKQ"
      },
      "source": [
        "## Baixando os microdados do ENADE"
      ]
    },
    {
      "cell_type": "markdown",
      "metadata": {
        "id": "6mvygCxMbVKQ"
      },
      "source": [
        "O código utiliza a biblioteca ```requests```, mas a primeira célula já executa o comando ```!pip install requests```."
      ]
    },
    {
      "cell_type": "code",
      "execution_count": 1,
      "metadata": {
        "id": "Qw-2a_NzbVKQ"
      },
      "outputs": [],
      "source": [
        "# Script para download de arquivos do Google Drive encontrado no Stack Overflow\n",
        "# https://stackoverflow.com/questions/38511444/python-download-files-from-google-drive-using-url\n",
        "\n",
        "import requests\n",
        "import os\n",
        "\n",
        "def download_file(id, destination):\n",
        "    URL = \"https://drive.google.com/uc?id=15TygyU78fPtyMDwnwGTQGNdpXtvCZ6RQ&export=download\"\n",
        "\n",
        "    session = requests.Session()\n",
        "    response = session.get(URL, params={'id': id})\n",
        "    token = get_confirm_token(response)\n",
        "    if(token):\n",
        "        params = {'id': id, 'confirm': token}\n",
        "        response = session.get(URL, params=params)\n",
        "    save_response_content(response, destination)\n",
        "\n",
        "\n",
        "def get_confirm_token(response):\n",
        "    for key, value in response.cookies.items():\n",
        "        if key.startswith('download_warning'):\n",
        "            return value\n",
        "    return None\n",
        "\n",
        "# https://stackoverflow.com/questions/30582162/creating-a-missing-directory-file-structure-python\n",
        "def createAndOpen(filename, mode):\n",
        "    os.makedirs(os.path.dirname(filename), exist_ok=True)\n",
        "    return open(filename, mode)\n",
        "\n",
        "def save_response_content(response, destination):\n",
        "    CHUNK_SIZE = 32768\n",
        "\n",
        "    with createAndOpen(destination, \"wb\") as f:\n",
        "        for chunk in response.iter_content(CHUNK_SIZE):\n",
        "            if chunk:  # filter out keep-alive new chunks\n",
        "                f.write(chunk)\n",
        "\n",
        "# Endereço do arquivo CSV\n",
        "endereco_arquivo_zip = os.path.join(os.getcwd(), 'microdados_ENADE.zip')\n",
        "\n",
        "if __name__ == \"__main__\":\n",
        "    file_id = '15TygyU78fPtyMDwnwGTQGNdpXtvCZ6RQ'\n",
        "    destination = endereco_arquivo_zip\n",
        "    download_file(file_id, destination)"
      ]
    },
    {
      "cell_type": "markdown",
      "metadata": {
        "id": "vBpqtzQabVKR"
      },
      "source": [
        "Agora irei extrair o arquivo .zip que foram baixados"
      ]
    },
    {
      "cell_type": "code",
      "execution_count": 2,
      "metadata": {
        "id": "kGfOuipUbVKR"
      },
      "outputs": [],
      "source": [
        "import zipfile\n",
        "\n",
        "if __name__ == '__main__':\n",
        "    with zipfile.ZipFile(endereco_arquivo_zip, 'r') as zip_ref:\n",
        "        zip_ref.extractall() # Como não forneci nenhum endereço, vai extrair na pasta atual"
      ]
    },
    {
      "cell_type": "markdown",
      "metadata": {
        "id": "VlE5UygzbVKR"
      },
      "source": [
        "Os arquivos com os dados vieram em formato.txt, mas o nó CSV Reader do KNIME consege lê-los sem problema, então não há necessidade de converter o formato do arquivo pra .csv.\n",
        "\n",
        "Agora irei mover os arquivos CSV para a pasta Downloads"
      ]
    },
    {
      "cell_type": "code",
      "execution_count": null,
      "metadata": {
        "id": "xPqDktRPbVKR",
        "outputId": "3b4da533-2b03-413b-944a-fe6ba286781a"
      },
      "outputs": [],
      "source": [
        "import shutil\n",
        "\n",
        "# Verifica se o arquivo existe ou não, se existe deleta\n",
        "# Isso é feito para o método shutil.move() conseguir transferir o arquivo\n",
        "def verificaArquivoExiste(file_path):\n",
        "    if (os.path.isfile(file_path)):\n",
        "        os.remove(file_path)\n",
        "\n",
        "download_csv_2017_path = os.path.join(os.getenv('USERPROFILE'), 'Downloads', 'MICRODADOS_ENADE_2017.txt')\n",
        "download_csv_2018_path = os.path.join(os.getenv('USERPROFILE'), 'Downloads', 'MICRODADOS_ENADE_2018.txt')\n",
        "download_csv_2019_path = os.path.join(os.getenv('USERPROFILE'), 'Downloads', 'MICRODADOS_ENADE_2019.txt')\n",
        "\n",
        "verificaArquivoExiste(download_csv_2017_path)\n",
        "verificaArquivoExiste(download_csv_2018_path)\n",
        "verificaArquivoExiste(download_csv_2019_path)\n",
        "\n",
        "path_download_2017 = os.path.join(os.getcwd(), 'Microdados ENADE', '2017', '3.DADOS', 'MICRODADOS_ENADE_2017.txt')\n",
        "path_download_2018 = os.path.join(os.getcwd(), 'Microdados ENADE', '2018', '3.DADOS', 'MICRODADOS_ENADE_2018.txt')\n",
        "path_download_2019 = os.path.join(os.getcwd(), 'Microdados ENADE', '2019', '3.DADOS', 'MICRODADOS_ENADE_2019.txt')\n",
        "\n",
        "# Faço uma cópia para a pasta local Downloads do Windows\n",
        "shutil.copy(path_download_2017, os.path.join(os.getenv('USERPROFILE'), 'Downloads'))\n",
        "shutil.copy(path_download_2018, os.path.join(os.getenv('USERPROFILE'), 'Downloads'))\n",
        "shutil.copy(path_download_2019, os.path.join(os.getenv('USERPROFILE'), 'Downloads'))\n",
        "\n",
        "\n",
        "# Crio uma pasta para armazenar uma cópia local dos arquivos CSV para facilitar o acesso a eles\n",
        "os.makedirs('Microdados arquivos CSV', exist_ok = True)\n",
        "\n",
        "# Agora faço uma cópia local, para caso o usuário queira ver os dados manualmente\n",
        "path_local_2017 = os.path.join(os.getcwd(), 'Microdados arquivos CSV', 'Microdados_ENADE_2017.csv')\n",
        "path_local_2018 = os.path.join(os.getcwd(), 'Microdados arquivos CSV', 'Microdados_ENADE_2018.csv')\n",
        "path_local_2019 = os.path.join(os.getcwd(), 'Microdados arquivos CSV', 'Microdados_ENADE_2019.csv')\n",
        "\n",
        "shutil.copy(path_download_2017, os.path.join(os.getenv('USERPROFILE'), os.path.join(os.getcwd(), path_local_2017)))\n",
        "shutil.copy(path_download_2018, os.path.join(os.getenv('USERPROFILE'), os.path.join(os.getcwd(), path_local_2018)))\n",
        "shutil.copy(path_download_2019, os.path.join(os.getenv('USERPROFILE'), os.path.join(os.getcwd(), path_local_2019)))"
      ]
    },
    {
      "cell_type": "markdown",
      "metadata": {
        "id": "NqHmdfzvbVKS"
      },
      "source": [
        "# Questão 3) Cria o banco de dados"
      ]
    },
    {
      "cell_type": "markdown",
      "metadata": {
        "id": "rEJCq28IbVKS"
      },
      "source": [
        "Primeiro tenho que criar a conexão com o BD"
      ]
    },
    {
      "cell_type": "code",
      "execution_count": 4,
      "metadata": {
        "id": "vn6clsElbVKT"
      },
      "outputs": [],
      "source": [
        "import sqlite3\n",
        "from sqlite3 import Error\n",
        "import os\n",
        "\n",
        "# https://www.sqlitetutorial.net/sqlite-python/\n",
        "\n",
        "def createConnection(database_file):\n",
        "    \"\"\" create a database connection to a SQLite database \"\"\"\n",
        "    conn = None\n",
        "    try:\n",
        "        conn = sqlite3.connect(database_file)\n",
        "        return conn\n",
        "    except Error as e:\n",
        "        print(e)\n",
        "\n",
        "def getDatabasePath():\n",
        "    return os.path.join(os.getcwd(), 'DW_Prova_BD.db')\n",
        "\n",
        "if __name__ == '__main__':\n",
        "    conn = createConnection(getDatabasePath())"
      ]
    },
    {
      "cell_type": "markdown",
      "metadata": {
        "id": "JbVU-dMOhdq7"
      },
      "source": [
        "## Cria as tabelas"
      ]
    },
    {
      "cell_type": "code",
      "execution_count": 5,
      "metadata": {
        "id": "J_oLCZ_2hdq8"
      },
      "outputs": [],
      "source": [
        "def criaTabelaSQL(conn, create_table_sql):\n",
        "    \"\"\" create a table from the create_table_sql statement\n",
        "    :param conn: Connection object\n",
        "    :param create_table_sql: a CREATE TABLE statement\n",
        "    :return:\n",
        "    \"\"\"\n",
        "    try:\n",
        "        c = conn.cursor()\n",
        "        c.execute(create_table_sql)\n",
        "    except Error as e:\n",
        "        print(e)"
      ]
    },
    {
      "cell_type": "code",
      "execution_count": 6,
      "metadata": {},
      "outputs": [],
      "source": [
        "def main():\n",
        "    db = getDatabasePath()\n",
        "\n",
        "    # Vou criar a tabela fato\n",
        "    SQL_cria_Fato_ENADE = \"\"\" CREATE TABLE IF NOT EXISTS Fato_ENADE (\n",
        "        fk_tempo_id integer,\n",
        "        fk_info_es_curso_id integer,\n",
        "        fk_estudante_id integer,\n",
        "        fk_num_item_id integer,\n",
        "        fk_vetor_id integer,\n",
        "        fk_presenca_id integer,\n",
        "        fk_tp_sit_q_disc_id integer,\n",
        "        fk_nt_fg_ce_id integer,\n",
        "        fk_percepcao_prova_id integer,\n",
        "        fk_questionario_estudante_id integer,\n",
        "        FOREIGN KEY (fk_tempo_id) REFERENCES Dimensao_Tempo(tempo_id),\n",
        "        FOREIGN KEY (fk_info_es_curso_id) REFERENCES Dimensao_INFO_ES_CURSO(info_es_curso_id),\n",
        "        FOREIGN KEY (fk_estudante_id) REFERENCES Dimensao_ESTUDANTE(estudante_id),\n",
        "        FOREIGN KEY (fk_num_item_id) REFERENCES Dimensao_NU_ITEM(nu_item_id),\n",
        "        FOREIGN KEY (fk_vetor_id) REFERENCES Dimensao_VETORES(vetor_id),\n",
        "        FOREIGN KEY (fk_presenca_id) REFERENCES Dimensao_TP_PRESENCA(tp_pres_id),\n",
        "        FOREIGN KEY (fk_tp_sit_q_disc_id) REFERENCES Dimensao_TP_SIT_Q_DISC(tp_sit_q_disc_id),\n",
        "        FOREIGN KEY (fk_nt_fg_ce_id) REFERENCES Dimensao_NT_FG_CE(nt_fg_ce_id),\n",
        "        FOREIGN KEY (fk_percepcao_prova_id) REFERENCES Dimensao_PERCEPCAO_PROVA(percepcao_prova_id),\n",
        "        FOREIGN KEY (fk_questionario_estudante_id) REFERENCES Dimensao_QUESTIONARIO_ESTUDANTE(questionario_estudante_id),\n",
        "        PRIMARY KEY (fk_tempo_id, fk_info_es_curso_id,\n",
        "                        fk_estudante_id, fk_num_item_id,\n",
        "                        fk_vetor_id,fk_presenca_id,\n",
        "                        fk_tp_sit_q_disc_id, fk_nt_fg_ce_id,\n",
        "                        fk_percepcao_prova_id, fk_questionario_estudante_id)\n",
        "    );\"\"\"\n",
        "\n",
        "    # Vou criar as tabelas dimensão\n",
        "    ## Tabela TEMPO\n",
        "    SQL_cria_Dimensao_TEMPO = \"\"\" CREATE TABLE IF NOT EXISTS Dimensao_TEMPO (\n",
        "        tempo_id integer PRIMARY KEY AUTOINCREMENT,\n",
        "        nu_ano integer,\n",
        "        ano_fim_em integer,\n",
        "        ano_in_grad integer\n",
        "    );\"\"\"\n",
        "\n",
        "    ## Tabela INFO_ES_CURSO\n",
        "    SQL_cria_Dimensao_INFO_ES_CURSO = \"\"\" CREATE TABLE IF NOT EXISTS Dimensao_INFO_ES_CURSO (\n",
        "        info_es_curso_id integer PRIMARY KEY AUTOINCREMENT,\n",
        "        co_ies integer,\n",
        "        co_categad integer,\n",
        "        co_orgacad integer,\n",
        "        co_grupo integer,\n",
        "        co_curso integer,\n",
        "        co_modalidade integer,\n",
        "        co_munic_curso integer,\n",
        "        co_uf_curso integer,\n",
        "        co_regiao_curso integer\n",
        "    );\"\"\"\n",
        "\n",
        "    ## Tabela ESTUDANTE\n",
        "    SQL_cria_Dimensao_ESTUDANTE = \"\"\" CREATE TABLE IF NOT EXISTS Dimensao_ESTUDANTE (\n",
        "        estudante_id integer PRIMARY KEY AUTOINCREMENT,\n",
        "        nu_idade integer,\n",
        "        tp_sexo string,\n",
        "        co_turno_graduacao integer,\n",
        "        tp_inscricao_adm integer,\n",
        "        tp_inscricao integer\n",
        "    );\"\"\"\n",
        "\n",
        "    ## Tabela NU_ITEM\n",
        "    SQL_cria_Dimensao_NU_ITEM = \"\"\" CREATE TABLE IF NOT EXISTS Dimensao_NU_ITEM (\n",
        "        nu_item_id integer PRIMARY KEY AUTOINCREMENT,\n",
        "        nu_item_ofg integer,\n",
        "        nu_item_ofg_z integer,\n",
        "        nu_item_ofg_x integer,\n",
        "        nu_item_ofg_n integer,\n",
        "        nu_item_oce integer,\n",
        "        nu_item_oce_z integer,\n",
        "        nu_item_oce_x integer,\n",
        "        nu_item_oce_n integer\n",
        "    );\"\"\"\n",
        "\n",
        "    ## Tabela VETORES\n",
        "    SQL_cria_Dimensao_VETORES = \"\"\" CREATE TABLE IF NOT EXISTS Dimensao_VETORES (\n",
        "        vetor_id integer PRIMARY KEY AUTOINCREMENT,\n",
        "        ds_vt_gab_ofg_orig string,\n",
        "        ds_vt_gab_ofg_fin string,\n",
        "        ds_vt_gab_oce_orig string,\n",
        "        ds_vt_gab_oce_fin string,\n",
        "        ds_vt_esc_ofg string,\n",
        "        ds_vt_ace_ofg integer,\n",
        "        ds_vt_esc_oce string,\n",
        "        ds_vt_ace_oce real\n",
        "    );\"\"\"\n",
        "\n",
        "    ## Tabela TP_PRES\n",
        "    SQL_cria_Dimensao_TP_PRES = \"\"\" CREATE TABLE IF NOT EXISTS Dimensao_TP_PRESENCA (\n",
        "        tp_pres_id integer PRIMARY KEY AUTOINCREMENT,\n",
        "        tp_pres integer,\n",
        "        tp_pr_ger integer,\n",
        "        tp_pr_ob_fg integer,\n",
        "        tp_pr_di_fg integer,\n",
        "        tp_pr_ob_ce integer,\n",
        "        tp_pr_di_ce integer\n",
        "    );\"\"\"\n",
        "\n",
        "    ## Tabela TP_SIT_Q_DISC\n",
        "    SQL_cria_Dimensao_TP_SIT_Q_DISC = \"\"\" CREATE TABLE IF NOT EXISTS Dimensao_TP_SIT_Q_DISC (\n",
        "        tp_sit_q_disc_id integer PRIMARY KEY AUTOINCREMENT,\n",
        "        tp_sfg_d1 integer,\n",
        "        tp_sfg_d2 integer,\n",
        "        tp_sce_d1 integer,\n",
        "        tp_sce_d2 integer,\n",
        "        tp_sce_d3 integer\n",
        "    );\"\"\"\n",
        "\n",
        "    ## Tabela NT_FG_CE\n",
        "    SQL_cria_Dimensao_NT_FG_CE = \"\"\" CREATE TABLE IF NOT EXISTS Dimensao_NT_FG_CE (\n",
        "        nt_fg_ce_id integer PRIMARY KEY AUTOINCREMENT,\n",
        "        fk_nt_fg_id integer,\n",
        "        fk_nt_ce_id integer,\n",
        "        FOREIGN KEY (fk_nt_fg_id) REFERENCES Dimensao_NT_FG(nt_fg_id),\n",
        "        FOREIGN KEY (fk_nt_ce_id) REFERENCES Dimensao_NT_CE(nt_ce_id)\n",
        "    );\"\"\"\n",
        "\n",
        "    ## Tabela NT_FG\n",
        "    SQL_cria_Dimensao_NT_FG = \"\"\" CREATE TABLE IF NOT EXISTS Dimensao_NT_FG (\n",
        "        nt_fg_id integer PRIMARY KEY AUTOINCREMENT,\n",
        "        nt_ger string,\n",
        "        nt_fg string,\n",
        "        nt_obj_fg string,\n",
        "        nt_dis_fg string,\n",
        "        nt_fg_d1 integer,\n",
        "        nt_fg_d1_pt integer,\n",
        "        nt_fg_d1_ct integer,\n",
        "        nt_fg_d2 integer,\n",
        "        nt_fg_d2_pt integer,\n",
        "        nt_fg_d2_ct integer\n",
        "    );\"\"\"\n",
        "\n",
        "    ## Tabela NT_CE\n",
        "    SQL_cria_Dimensao_NT_CE = \"\"\" CREATE TABLE IF NOT EXISTS Dimensao_NT_CE (\n",
        "        nt_ce_id integer PRIMARY KEY AUTOINCREMENT,\n",
        "        nt_ce string,\n",
        "        nt_obj_ce string,\n",
        "        nt_dis_ce string,\n",
        "        nt_ce_d1 integer,\n",
        "        nt_ce_d2 integer,\n",
        "        nt_ce_d3 integer\n",
        "    );\"\"\"\n",
        "\n",
        "    ## Tabela PERCEPCAO_PROVA\n",
        "    SQL_cria_Dimensao_PERCEPCAO_PROVA = \"\"\" CREATE TABLE IF NOT EXISTS Dimensao_PERCEPCAO_PROVA (\n",
        "        percepcao_prova_id integer PRIMARY KEY AUTOINCREMENT,\n",
        "        co_rs_i1 text,\n",
        "        co_rs_i2 text,\n",
        "        co_rs_i3 text,\n",
        "        co_rs_i4 text,\n",
        "        co_rs_i5 text,\n",
        "        co_rs_i6 text,\n",
        "        co_rs_i7 text,\n",
        "        co_rs_i8 text,\n",
        "        co_rs_i9 text\n",
        "    );\"\"\"\n",
        "\n",
        "    ## Tabela QUESTIONARIO_ESTUDANTE\n",
        "    SQL_cria_Dimensao_QUESTIONARIO_ESTUDANTE = \"\"\" CREATE TABLE IF NOT EXISTS Dimensao_QUESTIONARIO_ESTUDANTE1 (\n",
        "        questionario_estudante1_id integer PRIMARY KEY AUTOINCREMENT,\n",
        "        fk_string_questionario_estudante1_id text,\n",
        "        fk_string_questionario_estudante2_id text,\n",
        "        FOREIGN KEY (fk_string_questionario_estudante1_id) REFERENCES Dimensao_NT_FG(questionario_estudante1_id),\n",
        "        FOREIGN KEY (fk_string_questionario_estudante2_id) REFERENCES Dimensao_NT_CE(questionario_estudante2_id)\n",
        "    );\"\"\"\n",
        "\n",
        "    ## Tabela QUESTIONARIO_ESTUDANTE\n",
        "    SQL_cria_Dimensao_QUESTIONARIO_ESTUDANTE1 = \"\"\" CREATE TABLE IF NOT EXISTS Dimensao_QUESTIONARIO_ESTUDANTE1 (\n",
        "        questionario_estudante1_id integer PRIMARY KEY AUTOINCREMENT,\n",
        "        string_questionario_estudante1 text\n",
        "    );\"\"\"\n",
        "\n",
        "    ## Tabela QUESTIONARIO_ESTUDANTE\n",
        "    SQL_cria_Dimensao_QUESTIONARIO_ESTUDANTE2 = \"\"\" CREATE TABLE IF NOT EXISTS Dimensao_QUESTIONARIO_ESTUDANTE2 (\n",
        "        questionario_estudante2_id integer PRIMARY KEY AUTOINCREMENT,\n",
        "        string_questionario_estudante2 text\n",
        "    );\"\"\"\n",
        "\n",
        "    # Crio a conexão com o banco de dados\n",
        "    conn = createConnection(db)\n",
        "\n",
        "    # Crio as tabelas no SQL\n",
        "    if conn is not None:\n",
        "        criaTabelaSQL(conn, SQL_cria_Fato_ENADE)\n",
        "        criaTabelaSQL(conn, SQL_cria_Dimensao_TEMPO)\n",
        "        criaTabelaSQL(conn, SQL_cria_Dimensao_INFO_ES_CURSO)\n",
        "        criaTabelaSQL(conn, SQL_cria_Dimensao_ESTUDANTE)\n",
        "        criaTabelaSQL(conn, SQL_cria_Dimensao_NU_ITEM)\n",
        "        criaTabelaSQL(conn, SQL_cria_Dimensao_VETORES)\n",
        "        criaTabelaSQL(conn, SQL_cria_Dimensao_TP_PRES)\n",
        "        criaTabelaSQL(conn, SQL_cria_Dimensao_TP_SIT_Q_DISC)\n",
        "        criaTabelaSQL(conn, SQL_cria_Dimensao_NT_FG_CE)\n",
        "        criaTabelaSQL(conn, SQL_cria_Dimensao_NT_FG)\n",
        "        criaTabelaSQL(conn, SQL_cria_Dimensao_NT_CE)\n",
        "        criaTabelaSQL(conn, SQL_cria_Dimensao_PERCEPCAO_PROVA)\n",
        "        criaTabelaSQL(conn, SQL_cria_Dimensao_QUESTIONARIO_ESTUDANTE)\n",
        "        criaTabelaSQL(conn, SQL_cria_Dimensao_QUESTIONARIO_ESTUDANTE1)\n",
        "        criaTabelaSQL(conn, SQL_cria_Dimensao_QUESTIONARIO_ESTUDANTE2)\n",
        "    else:\n",
        "        print(\"ERRO: Não foi possível criar a conexão com o banco de dados.\")"
      ]
    },
    {
      "cell_type": "code",
      "execution_count": 7,
      "metadata": {
        "id": "r-7SXNhWhdq9"
      },
      "outputs": [],
      "source": [
        "if __name__ == '__main__':\n",
        "    main()"
      ]
    },
    {
      "cell_type": "markdown",
      "metadata": {},
      "source": [
        "# Questão 4) Carga de dados"
      ]
    },
    {
      "cell_type": "markdown",
      "metadata": {},
      "source": [
        "## Insere dados nas tabelas"
      ]
    },
    {
      "cell_type": "markdown",
      "metadata": {},
      "source": [
        "Função que insere os dados no banco"
      ]
    },
    {
      "cell_type": "code",
      "execution_count": 8,
      "metadata": {},
      "outputs": [],
      "source": [
        "import pandas as pd\n",
        "\n",
        "def insereDadosNoBD(df, table_name):\n",
        "    conn = createConnection(getDatabasePath())\n",
        "    df.to_sql(table_name, conn, if_exists='append', index=False)"
      ]
    },
    {
      "cell_type": "markdown",
      "metadata": {},
      "source": [
        "Agora vou pegar as colunas usadas em cada tabela"
      ]
    },
    {
      "cell_type": "code",
      "execution_count": 9,
      "metadata": {},
      "outputs": [],
      "source": [
        "# Colunas que serão usadas para cada tabela\n",
        "# Os arrays de seleção de coluna são case sensitive, se colocar o nome da coluna com tudo minúsculo o SQLite não vai reconhecer\n",
        "colunas_Dimensao_TEMPO = ['NU_ANO', 'ANO_FIM_EM', 'ANO_IN_GRAD']\n",
        "\n",
        "colunas_Dimensao_INFO_ES_CURSO = ['CO_IES', 'CO_CATEGAD', 'CO_ORGACAD', 'CO_GRUPO', 'CO_CURSO', 'CO_MODALIDADE', 'CO_MUNIC_CURSO', 'CO_UF_CURSO', 'CO_REGIAO_CURSO']\n",
        "\n",
        "colunas_Dimensao_ESTUDANTE = ['NU_IDADE', 'TP_SEXO', 'CO_TURNO_GRADUACAO', 'TP_INSCRICAO_ADM', 'TP_INSCRICAO']\n",
        "\n",
        "colunas_Dimensao_NU_ITEM = ['NU_ITEM_OFG', 'NU_ITEM_OFG_Z', 'NU_ITEM_OFG_X', 'NU_ITEM_OFG_N', 'NU_ITEM_OCE', 'NU_ITEM_OCE_Z', 'NU_ITEM_OCE_X', 'NU_ITEM_OCE_N']\n",
        "\n",
        "colunas_Dimensao_VETORES = ['DS_VT_GAB_OFG_ORIG', 'DS_VT_GAB_OFG_FIN', 'DS_VT_GAB_OCE_ORIG', 'DS_VT_GAB_OCE_FIN', 'DS_VT_ESC_OFG', 'DS_VT_ACE_OFG', 'DS_VT_ESC_OCE', 'DS_VT_ACE_OCE']\n",
        "\n",
        "colunas_Dimensao_TP_PRES = ['TP_PRES', 'TP_PR_GER', 'TP_PR_OB_FG', 'TP_PR_DI_FG', 'TP_PR_OB_CE', 'TP_PR_DI_CE']\n",
        "\n",
        "colunas_Dimensao_TP_SIT_Q_DISC = ['TP_SFG_D1', 'TP_SFG_D2', 'TP_SCE_D1', 'TP_SCE_D2', 'TP_SCE_D3']\n",
        "\n",
        "colunas_Dimensao_NT_FG = ['NT_GER', 'NT_FG', 'NT_OBJ_FG', 'NT_DIS_FG', 'NT_FG_D1', 'NT_FG_D1_PT', 'NT_FG_D1_CT', 'NT_FG_D2', 'NT_FG_D2_PT', 'NT_FG_D2_CT']\n",
        "colunas_Dimensao_NT_CE = ['NT_CE', 'NT_OBJ_CE', 'NT_DIS_CE', 'NT_CE_D1', 'NT_CE_D2', 'NT_CE_D3']\n",
        "\n",
        "colunas_Dimensao_PERCEPCAO_PROVA = ['CO_RS_I1', 'CO_RS_I2', 'CO_RS_I3', 'CO_RS_I4', 'CO_RS_I5', 'CO_RS_I6', 'CO_RS_I7', 'CO_RS_I8', 'CO_RS_I9']\n",
        "\n",
        "colunas_Dimensao_QUESTIONARIO_ESTUDANTE1 = ['']\n",
        "colunas_Dimensao_QUESTIONARIO_ESTUDANTE2 = ['']"
      ]
    },
    {
      "cell_type": "markdown",
      "metadata": {},
      "source": [
        "Agora vou inserir os dados, usando as colunas definidas acima para cada tabela"
      ]
    },
    {
      "cell_type": "code",
      "execution_count": null,
      "metadata": {},
      "outputs": [],
      "source": [
        "def insereTudoNoBD(array_array_colunas, array_tabelas_SQL):\n",
        "    for i in range(len(array_array_colunas)):\n",
        "        # Insere dados de 2017 na tabela\n",
        "        df = pd.read_csv(path_local_2017, usecols = array_array_colunas[i], sep = ';')\n",
        "        insereDadosNoBD(df, array_tabelas_SQL[i])\n",
        "\n",
        "        # Insere dados de 2018 na tabela\n",
        "        df = pd.read_csv(path_local_2018, usecols = array_array_colunas[i], sep = ';')\n",
        "        insereDadosNoBD(df, array_tabelas_SQL[i])\n",
        "        \n",
        "        # Insere dados de 2019 na tabela\n",
        "        df = pd.read_csv(path_local_2019, usecols = array_array_colunas[i], sep = ';')\n",
        "        insereDadosNoBD(df, array_tabelas_SQL[i])\n",
        "\n",
        "array_array_colunas = [colunas_Dimensao_TEMPO, colunas_Dimensao_INFO_ES_CURSO, colunas_Dimensao_ESTUDANTE,\n",
        "    colunas_Dimensao_NU_ITEM, colunas_Dimensao_VETORES, colunas_Dimensao_TP_PRES,\n",
        "    colunas_Dimensao_TP_SIT_Q_DISC, colunas_Dimensao_NT_FG, colunas_Dimensao_NT_CE,\n",
        "    colunas_Dimensao_PERCEPCAO_PROVA]\n",
        "\n",
        "array_tabelas_SQL = ['Dimensao_TEMPO', 'Dimensao_INFO_ES_CURSO', 'Dimensao_ESTUDANTE',\n",
        "    'Dimensao_NU_ITEM', 'Dimensao_VETORES', 'Dimensao_TP_PRES',\n",
        "    'Dimensao_TP_SIT_Q_DISC', 'Dimensao_NT_FG', 'Dimensao_NT_CE',\n",
        "    'Dimensao_PERCEPCAO_PROVA']\n",
        "\n",
        "# Não consegui fazer funcionar, então deixei como comentário\n",
        "'''\n",
        "array_array_colunas.append(colunas_Dimensao_QUESTIONARIO_ESTUDANTE1)\n",
        "array_tabelas_SQL.append('Dimensao_QUESTIONARIO_ESTUDANTE1')\n",
        "\n",
        "array_array_colunas.append(colunas_Dimensao_QUESTIONARIO_ESTUDANTE2)\n",
        "array_tabelas_SQL.append('Dimensao_QUESTIONARIO_ESTUDANTE2')\n",
        "'''\n",
        "insereTudoNoBD(array_array_colunas, array_tabelas_SQL)"
      ]
    }
  ],
  "metadata": {
    "colab": {
      "name": "dw_prova.ipynb",
      "provenance": []
    },
    "interpreter": {
      "hash": "a343bea681f747650dfb8943b10a4128e801da192d498cc8da39074ad26c5da2"
    },
    "kernelspec": {
      "display_name": "Python 3.9.9 64-bit (windows store)",
      "language": "python",
      "name": "python3"
    },
    "language_info": {
      "codemirror_mode": {
        "name": "ipython",
        "version": 3
      },
      "file_extension": ".py",
      "mimetype": "text/x-python",
      "name": "python",
      "nbconvert_exporter": "python",
      "pygments_lexer": "ipython3",
      "version": "3.9.9"
    },
    "orig_nbformat": 4
  },
  "nbformat": 4,
  "nbformat_minor": 0
}
